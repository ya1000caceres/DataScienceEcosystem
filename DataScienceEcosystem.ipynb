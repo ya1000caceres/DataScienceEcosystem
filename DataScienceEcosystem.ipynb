{
 "cells": [
  {
   "cell_type": "markdown",
   "id": "151f03d5",
   "metadata": {},
   "source": [
    "# My First Data Science Notebook"
   ]
  },
  {
   "cell_type": "markdown",
   "id": "1ba85eae",
   "metadata": {},
   "source": [
    "Hello! 👋 This notebook is my first project in the fascinating world of data science. Here, I will explore some of the most important tools, languages, and libraries used in this field. Join me on this journey of learning and discovery."
   ]
  },
  {
   "cell_type": "markdown",
   "id": "9be2f951",
   "metadata": {},
   "source": [
    "## Data Science Languages\n",
    "\n",
    "Below are some of the most popular and powerful programming languages for data science:\n",
    "\n",
    "* **Python:** It is the most widespread language in the data science community due to its simple syntax and the large number of specialized libraries.\n",
    "* **R:** It is a language specially designed for statistical analysis and data visualization.\n",
    "* **SQL:** (Structured Query Language) It is essential for working with relational databases, allowing for efficient data extraction and manipulation.\n",
    "* **Julia:** It is a high-performance language that is gaining popularity for its speed, especially in scientific and numerical computing.\n",
    "* **Scala:** Often used with Apache Spark, it is ideal for working with large volumes of data (Big Data)."
   ]
  },
  {
   "cell_type": "markdown",
   "id": "242226a0",
   "metadata": {},
   "source": [
    "## Data Science Libraries\n",
    "\n",
    "Libraries are sets of pre-written code that greatly facilitate work in data science. Here are some of the most used in Python:\n",
    "\n",
    "* **Pandas:** Essential for data manipulation and analysis. It provides data structures like DataFrames, which are very flexible and powerful.\n",
    "* **NumPy:** The fundamental library for scientific computing in Python. It offers support for large arrays and matrices, along with a collection of mathematical functions to operate on them.\n",
    "* **Matplotlib:** A very versatile library for creating static, animated, and interactive visualizations.\n",
    "* **Seaborn:** Based on Matplotlib, it provides a high-level interface for drawing attractive and informative statistical graphics.\n",
    "* **Scikit-learn:** One of the most complete libraries for machine learning, with tools for classification, regression, clustering, and more.\n",
    "* **TensorFlow and PyTorch:** These are the most popular libraries for developing deep learning models and neural networks."
   ]
  },
  {
   "cell_type": "markdown",
   "id": "cdb75084",
   "metadata": {},
   "source": [
    "## Data Science Tools Table\n",
    "\n",
    "| Category                | Tools                                   |\n",
    "| :---------------------- | :-------------------------------------- |\n",
    "| **Development Environments** | Jupyter Notebook, RStudio, VS Code      |\n",
    "| **Cloud Platforms** | Google Colab, Kaggle, IBM Watson Studio |\n",
    "| **Databases** | MySQL, PostgreSQL, MongoDB              |\n",
    "| **Big Data** | Apache Spark, Hadoop                    |"
   ]
  },
  {
   "cell_type": "markdown",
   "id": "a35a4737",
   "metadata": {},
   "source": [
    "## Introduction to Arithmetic Expressions\n",
    "\n",
    "Next, we will see some basic examples of how mathematical operations can be performed in a code cell. These operations are the foundation for many more complex calculations in data analysis."
   ]
  },
  {
   "cell_type": "code",
   "execution_count": null,
   "id": "8d3029e8",
   "metadata": {},
   "outputs": [],
   "source": [
    "# This is a simple arithmetic operation\n",
    "(5 * 4) + 8"
   ]
  },
  {
   "cell_type": "code",
   "execution_count": null,
   "id": "56191977",
   "metadata": {},
   "outputs": [],
   "source": [
    "# This converts 150 minutes to hours\n",
    "minutes = 150\n",
    "hours = minutes / 60\n",
    "hours"
   ]
  },
  {
   "cell_type": "markdown",
   "id": "b104f5e9",
   "metadata": {},
   "source": [
    "## Objectives\n",
    "\n",
    "* Become familiar with the basic concepts of data science.\n",
    "* Learn to use the most common tools and languages in the field.\n",
    "* Practice creating and executing code in a notebook.\n",
    "* Understand the importance of libraries for data analysis."
   ]
  },
  {
   "cell_type": "markdown",
   "id": "444363e5",
   "metadata": {},
   "source": [
    "## Author\n",
    "\n",
    "**Author:** Isidro Yamil Cáceres Rojas"
   ]
  }
 ],
 "metadata": {
  "kernelspec": {
   "display_name": "Python 3",
   "language": "python",
   "name": "python3"
  },
  "language_info": {
   "codemirror_mode": {
    "name": "ipython",
    "version": 3
   },
   "file_extension": ".py",
   "mimetype": "text/x-python",
   "name": "python",
   "nbconvert_exporter": "python",
   "pygments_lexer": "ipython3",
   "version": "3.12.10"
  }
 },
 "nbformat": 4,
 "nbformat_minor": 5
}
